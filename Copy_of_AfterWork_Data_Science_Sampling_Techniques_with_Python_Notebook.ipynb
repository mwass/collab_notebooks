{
  "nbformat": 4,
  "nbformat_minor": 0,
  "metadata": {
    "colab": {
      "name": "Copy of AfterWork Data Science: Sampling Techniques with Python Notebook",
      "provenance": [],
      "collapsed_sections": [
        "EVUW_7soCz54",
        "CbEGCD0T3LoR",
        "QZ2jAvefDoey",
        "yEOzCd-JDqEV",
        "E1pGyZZyC4L7",
        "LtyPNQJrD21j",
        "J3wZkkhfD64z",
        "9z813vHmDZ6W",
        "CzbgkvsuECnI",
        "caeBSG23D9qn",
        "bui-wArzDV7y",
        "UcmvzSgNEB_h",
        "hqXRbdPPD8lt"
      ],
      "include_colab_link": true
    },
    "kernelspec": {
      "name": "python3",
      "display_name": "Python 3"
    }
  },
  "cells": [
    {
      "cell_type": "markdown",
      "metadata": {
        "id": "view-in-github",
        "colab_type": "text"
      },
      "source": [
        "<a href=\"https://colab.research.google.com/github/mwass/collab_notebooks/blob/master/Copy_of_AfterWork_Data_Science_Sampling_Techniques_with_Python_Notebook.ipynb\" target=\"_parent\"><img src=\"https://colab.research.google.com/assets/colab-badge.svg\" alt=\"Open In Colab\"/></a>"
      ]
    },
    {
      "cell_type": "markdown",
      "metadata": {
        "id": "H1lQlaXUEQGU",
        "colab_type": "text"
      },
      "source": [
        "<font color=\"blue\">To use this notebook on Google Colaboratory, you will need to make a copy of it. Go to **File** > **Save a Copy in Drive**. You can then use the new copy that will appear in the new tab.</font>"
      ]
    },
    {
      "cell_type": "markdown",
      "metadata": {
        "id": "WK7OhmB4_6FK",
        "colab_type": "text"
      },
      "source": [
        "# Sampling Techniques with Python Notebook"
      ]
    },
    {
      "cell_type": "markdown",
      "metadata": {
        "id": "EVUW_7soCz54",
        "colab_type": "text"
      },
      "source": [
        "## 1. Simple Random Sampling (SRS)"
      ]
    },
    {
      "cell_type": "markdown",
      "metadata": {
        "id": "CbEGCD0T3LoR",
        "colab_type": "text"
      },
      "source": [
        "### Importing our Prerequisites"
      ]
    },
    {
      "cell_type": "code",
      "metadata": {
        "id": "7NkOMHZk3LGc",
        "colab_type": "code",
        "colab": {}
      },
      "source": [
        "# Importing pandas for performing data maniputation\n",
        "# \n",
        "import pandas as pd\n",
        "\n",
        "# Importing numpy for performing scientific computations\n",
        "import numpy as np\n",
        "\n",
        "# Importing random module for random sampling\n",
        "# \n",
        "import random"
      ],
      "execution_count": 0,
      "outputs": []
    },
    {
      "cell_type": "markdown",
      "metadata": {
        "id": "QZ2jAvefDoey",
        "colab_type": "text"
      },
      "source": [
        "### Examples "
      ]
    },
    {
      "cell_type": "code",
      "metadata": {
        "id": "p-6fWJfY_00G",
        "colab_type": "code",
        "outputId": "a656a51d-063b-49b2-94ac-6be2f355d538",
        "colab": {
          "base_uri": "https://localhost:8080/",
          "height": 34
        }
      },
      "source": [
        "# Example 1\n",
        "# ---\n",
        "# Selecting a random sample without replacement\n",
        "# ---\n",
        "# Some data can be stored in a list and you would be required to select more than \n",
        "# one item from that particular list. \n",
        "# ---\n",
        "# In this example, we will be selecting more than one item from a given list. \n",
        "# We will use the random.sample() function to return a particular subset list \n",
        "# of items from the given list.\n",
        "# The function is normally used for random sampling without replacement.\n",
        "# k in the function, will be an integer value that will specify the length of a sample.\n",
        "# ---\n",
        "# \n",
        "\n",
        "# Defining our list \n",
        "# \n",
        "example_list = [10, 15, 20, 25, 30, 35, 40, 45, 50, 55]\n",
        "\n",
        "# Then select a sample of 2 items\n",
        "# \n",
        "print(\"Selecting 2 random items from our list\", random.sample(example_list, k = 2))"
      ],
      "execution_count": 0,
      "outputs": [
        {
          "output_type": "stream",
          "text": [
            "Selecting 2 random items from our list [20, 40]\n"
          ],
          "name": "stdout"
        }
      ]
    },
    {
      "cell_type": "code",
      "metadata": {
        "id": "1k2nGvJBFZsg",
        "colab_type": "code",
        "outputId": "5fef7a9b-6eac-4b58-fc34-3bb6dfb69ec7",
        "colab": {
          "base_uri": "https://localhost:8080/",
          "height": 34
        }
      },
      "source": [
        "# Example 2\n",
        "# ---\n",
        "# We can also select a random sample with replacement from a given list.\n",
        "# This would mean that we can get the same item more than once during sampling.\n",
        "# Let's do this through the use of the random.choice() function.\n",
        "# ---\n",
        "#\n",
        "\n",
        "# Defining our list\n",
        "# ---\n",
        "#\n",
        "footballers = [\"Messi\", \"Ronaldo\", \"Salah\", \"Mane\", \"Alison\", \"Van Dyke\", \"Relah\"]\n",
        "\n",
        "# Then select a sample of 4 items\n",
        "# \n",
        "print(\"Random sample with replacement:\", random.choices(footballers, k = 4))"
      ],
      "execution_count": 0,
      "outputs": [
        {
          "output_type": "stream",
          "text": [
            "Random sample with replacement: ['Mane', 'Mane', 'Van Dyke', 'Mane']\n"
          ],
          "name": "stdout"
        }
      ]
    },
    {
      "cell_type": "code",
      "metadata": {
        "id": "s34G4FyuFlsK",
        "colab_type": "code",
        "outputId": "c6c661b3-eefc-4de1-88c5-165bfb3269bf",
        "colab": {
          "base_uri": "https://localhost:8080/",
          "height": 206
        }
      },
      "source": [
        "# Challenge 3\n",
        "# ---\n",
        "# We can also select a random sample from a given dataset as show below:\n",
        "# ---\n",
        "#\n",
        "\n",
        "# We first import and preview our dataset.\n",
        "# This will help us understand our dataset before doing anything else.\n",
        "# ---\n",
        "# \n",
        "spending_df = pd.read_csv(\"https://bit.ly/2WtrItx\")\n",
        "spending_df.head()"
      ],
      "execution_count": 0,
      "outputs": [
        {
          "output_type": "execute_result",
          "data": {
            "text/html": [
              "<div>\n",
              "<style scoped>\n",
              "    .dataframe tbody tr th:only-of-type {\n",
              "        vertical-align: middle;\n",
              "    }\n",
              "\n",
              "    .dataframe tbody tr th {\n",
              "        vertical-align: top;\n",
              "    }\n",
              "\n",
              "    .dataframe thead th {\n",
              "        text-align: right;\n",
              "    }\n",
              "</style>\n",
              "<table border=\"1\" class=\"dataframe\">\n",
              "  <thead>\n",
              "    <tr style=\"text-align: right;\">\n",
              "      <th></th>\n",
              "      <th>CustomerID</th>\n",
              "      <th>Gender</th>\n",
              "      <th>Age</th>\n",
              "      <th>Annual Income (k$)</th>\n",
              "      <th>Spending Score (1-100)</th>\n",
              "    </tr>\n",
              "  </thead>\n",
              "  <tbody>\n",
              "    <tr>\n",
              "      <th>0</th>\n",
              "      <td>1</td>\n",
              "      <td>Male</td>\n",
              "      <td>19</td>\n",
              "      <td>15</td>\n",
              "      <td>39</td>\n",
              "    </tr>\n",
              "    <tr>\n",
              "      <th>1</th>\n",
              "      <td>2</td>\n",
              "      <td>Male</td>\n",
              "      <td>21</td>\n",
              "      <td>15</td>\n",
              "      <td>81</td>\n",
              "    </tr>\n",
              "    <tr>\n",
              "      <th>2</th>\n",
              "      <td>3</td>\n",
              "      <td>Female</td>\n",
              "      <td>20</td>\n",
              "      <td>16</td>\n",
              "      <td>6</td>\n",
              "    </tr>\n",
              "    <tr>\n",
              "      <th>3</th>\n",
              "      <td>4</td>\n",
              "      <td>Female</td>\n",
              "      <td>23</td>\n",
              "      <td>16</td>\n",
              "      <td>77</td>\n",
              "    </tr>\n",
              "    <tr>\n",
              "      <th>4</th>\n",
              "      <td>5</td>\n",
              "      <td>Female</td>\n",
              "      <td>31</td>\n",
              "      <td>17</td>\n",
              "      <td>40</td>\n",
              "    </tr>\n",
              "  </tbody>\n",
              "</table>\n",
              "</div>"
            ],
            "text/plain": [
              "   CustomerID  Gender  Age  Annual Income (k$)  Spending Score (1-100)\n",
              "0           1    Male   19                  15                      39\n",
              "1           2    Male   21                  15                      81\n",
              "2           3  Female   20                  16                       6\n",
              "3           4  Female   23                  16                      77\n",
              "4           5  Female   31                  17                      40"
            ]
          },
          "metadata": {
            "tags": []
          },
          "execution_count": 5
        }
      ]
    },
    {
      "cell_type": "code",
      "metadata": {
        "id": "8XRVihFPbD7S",
        "colab_type": "code",
        "outputId": "eb05f5f9-1054-4249-d7b6-7d5ab735e6bc",
        "colab": {
          "base_uri": "https://localhost:8080/",
          "height": 34
        }
      },
      "source": [
        "# We then determine the size of our dataset;  (records, columns) \n",
        "# ---\n",
        "#\n",
        "spending_df.shape"
      ],
      "execution_count": 0,
      "outputs": [
        {
          "output_type": "execute_result",
          "data": {
            "text/plain": [
              "(200, 5)"
            ]
          },
          "metadata": {
            "tags": []
          },
          "execution_count": 6
        }
      ]
    },
    {
      "cell_type": "code",
      "metadata": {
        "id": "Sa8C_rO7cFGw",
        "colab_type": "code",
        "outputId": "a4b71c28-fa7f-4efb-fc39-9a9f1c93a7a2",
        "colab": {
          "base_uri": "https://localhost:8080/",
          "height": 363
        }
      },
      "source": [
        "# Then lastly, we select and preview a random sample of 10 records \n",
        "# as using the sample() function as shown below.  \n",
        "# ---\n",
        "#\n",
        "spending_df.sample(10) "
      ],
      "execution_count": 0,
      "outputs": [
        {
          "output_type": "execute_result",
          "data": {
            "text/html": [
              "<div>\n",
              "<style scoped>\n",
              "    .dataframe tbody tr th:only-of-type {\n",
              "        vertical-align: middle;\n",
              "    }\n",
              "\n",
              "    .dataframe tbody tr th {\n",
              "        vertical-align: top;\n",
              "    }\n",
              "\n",
              "    .dataframe thead th {\n",
              "        text-align: right;\n",
              "    }\n",
              "</style>\n",
              "<table border=\"1\" class=\"dataframe\">\n",
              "  <thead>\n",
              "    <tr style=\"text-align: right;\">\n",
              "      <th></th>\n",
              "      <th>CustomerID</th>\n",
              "      <th>Gender</th>\n",
              "      <th>Age</th>\n",
              "      <th>Annual Income (k$)</th>\n",
              "      <th>Spending Score (1-100)</th>\n",
              "    </tr>\n",
              "  </thead>\n",
              "  <tbody>\n",
              "    <tr>\n",
              "      <th>106</th>\n",
              "      <td>107</td>\n",
              "      <td>Female</td>\n",
              "      <td>66</td>\n",
              "      <td>63</td>\n",
              "      <td>50</td>\n",
              "    </tr>\n",
              "    <tr>\n",
              "      <th>23</th>\n",
              "      <td>24</td>\n",
              "      <td>Male</td>\n",
              "      <td>31</td>\n",
              "      <td>25</td>\n",
              "      <td>73</td>\n",
              "    </tr>\n",
              "    <tr>\n",
              "      <th>48</th>\n",
              "      <td>49</td>\n",
              "      <td>Female</td>\n",
              "      <td>29</td>\n",
              "      <td>40</td>\n",
              "      <td>42</td>\n",
              "    </tr>\n",
              "    <tr>\n",
              "      <th>93</th>\n",
              "      <td>94</td>\n",
              "      <td>Female</td>\n",
              "      <td>40</td>\n",
              "      <td>60</td>\n",
              "      <td>40</td>\n",
              "    </tr>\n",
              "    <tr>\n",
              "      <th>188</th>\n",
              "      <td>189</td>\n",
              "      <td>Female</td>\n",
              "      <td>41</td>\n",
              "      <td>103</td>\n",
              "      <td>17</td>\n",
              "    </tr>\n",
              "    <tr>\n",
              "      <th>143</th>\n",
              "      <td>144</td>\n",
              "      <td>Female</td>\n",
              "      <td>32</td>\n",
              "      <td>76</td>\n",
              "      <td>87</td>\n",
              "    </tr>\n",
              "    <tr>\n",
              "      <th>142</th>\n",
              "      <td>143</td>\n",
              "      <td>Female</td>\n",
              "      <td>28</td>\n",
              "      <td>76</td>\n",
              "      <td>40</td>\n",
              "    </tr>\n",
              "    <tr>\n",
              "      <th>11</th>\n",
              "      <td>12</td>\n",
              "      <td>Female</td>\n",
              "      <td>35</td>\n",
              "      <td>19</td>\n",
              "      <td>99</td>\n",
              "    </tr>\n",
              "    <tr>\n",
              "      <th>138</th>\n",
              "      <td>139</td>\n",
              "      <td>Male</td>\n",
              "      <td>19</td>\n",
              "      <td>74</td>\n",
              "      <td>10</td>\n",
              "    </tr>\n",
              "    <tr>\n",
              "      <th>113</th>\n",
              "      <td>114</td>\n",
              "      <td>Male</td>\n",
              "      <td>19</td>\n",
              "      <td>64</td>\n",
              "      <td>46</td>\n",
              "    </tr>\n",
              "  </tbody>\n",
              "</table>\n",
              "</div>"
            ],
            "text/plain": [
              "     CustomerID  Gender  Age  Annual Income (k$)  Spending Score (1-100)\n",
              "106         107  Female   66                  63                      50\n",
              "23           24    Male   31                  25                      73\n",
              "48           49  Female   29                  40                      42\n",
              "93           94  Female   40                  60                      40\n",
              "188         189  Female   41                 103                      17\n",
              "143         144  Female   32                  76                      87\n",
              "142         143  Female   28                  76                      40\n",
              "11           12  Female   35                  19                      99\n",
              "138         139    Male   19                  74                      10\n",
              "113         114    Male   19                  64                      46"
            ]
          },
          "metadata": {
            "tags": []
          },
          "execution_count": 21
        }
      ]
    },
    {
      "cell_type": "markdown",
      "metadata": {
        "id": "yEOzCd-JDqEV",
        "colab_type": "text"
      },
      "source": [
        "### <font color=\"green\">Challenges</font> "
      ]
    },
    {
      "cell_type": "code",
      "metadata": {
        "id": "4YFd8fqkDxVV",
        "colab_type": "code",
        "outputId": "de94ee7e-e956-4edd-cb6e-444a7145d502",
        "colab": {
          "base_uri": "https://localhost:8080/",
          "height": 34
        }
      },
      "source": [
        "# Challenge 1\n",
        "# ---\n",
        "# Select a random sample of 5 items from the given list.\n",
        "# ---\n",
        "# OUR CODE GOES BELOW\n",
        "# \n",
        "\n",
        "# Creating our list \n",
        "# ---\n",
        "# \n",
        "cities = ['Nairobi', 'Amsterdam', 'Johannesburg', 'Port Louis', 'St. Petersburg', 'Warsaw', 'Cairo', 'Lyon']\n",
        "random.sample(cities, k=5)\n"
      ],
      "execution_count": 0,
      "outputs": [
        {
          "output_type": "execute_result",
          "data": {
            "text/plain": [
              "['Cairo', 'Nairobi', 'Lyon', 'Amsterdam', 'St. Petersburg']"
            ]
          },
          "metadata": {
            "tags": []
          },
          "execution_count": 8
        }
      ]
    },
    {
      "cell_type": "code",
      "metadata": {
        "id": "pZi1FhLzGeH5",
        "colab_type": "code",
        "outputId": "467c4563-14a9-4444-bf93-98c361fa61c2",
        "colab": {
          "base_uri": "https://localhost:8080/",
          "height": 34
        }
      },
      "source": [
        "# Challenge 2\n",
        "# ---\n",
        "# Select a random sample of 3 items with replacement from the given list.\n",
        "# ---\n",
        "# OUR CODE GOES BELOW\n",
        "# \n",
        "\n",
        "# Creating our list\n",
        "# ---\n",
        "#\n",
        "cities = ['Nairobi', 'Amsterdam', 'Johannesburg', 'Port Louis', 'St. Petersburg', 'Warsaw', 'Cairo', 'Lyon']\n",
        "random.choices(cities, k=5)"
      ],
      "execution_count": 0,
      "outputs": [
        {
          "output_type": "execute_result",
          "data": {
            "text/plain": [
              "['Johannesburg', 'St. Petersburg', 'Port Louis', 'Amsterdam', 'St. Petersburg']"
            ]
          },
          "metadata": {
            "tags": []
          },
          "execution_count": 9
        }
      ]
    },
    {
      "cell_type": "code",
      "metadata": {
        "id": "1UsVW_cZGd5O",
        "colab_type": "code",
        "outputId": "f5ae424d-35c5-4d7e-f299-e6fa8162ab8a",
        "colab": {
          "base_uri": "https://localhost:8080/",
          "height": 617
        }
      },
      "source": [
        "# Challenge 3\n",
        "# ---\n",
        "# Select a random sample of 100 records from the given dataset.\n",
        "# ---\n",
        "# Dataset url = https://bit.ly/2XUisQ4\n",
        "# ---\n",
        "# OUR CODE GOES BELOW\n",
        "# \n",
        "my_sample = pd.read_csv(\"https://bit.ly/2XUisQ4\")\n",
        "my_sample.sample(100)"
      ],
      "execution_count": 0,
      "outputs": [
        {
          "output_type": "execute_result",
          "data": {
            "text/html": [
              "<div>\n",
              "<style scoped>\n",
              "    .dataframe tbody tr th:only-of-type {\n",
              "        vertical-align: middle;\n",
              "    }\n",
              "\n",
              "    .dataframe tbody tr th {\n",
              "        vertical-align: top;\n",
              "    }\n",
              "\n",
              "    .dataframe thead th {\n",
              "        text-align: right;\n",
              "    }\n",
              "</style>\n",
              "<table border=\"1\" class=\"dataframe\">\n",
              "  <thead>\n",
              "    <tr style=\"text-align: right;\">\n",
              "      <th></th>\n",
              "      <th>hotel</th>\n",
              "      <th>is_canceled</th>\n",
              "      <th>lead_time</th>\n",
              "      <th>arrival_date_year</th>\n",
              "      <th>arrival_date_month</th>\n",
              "      <th>arrival_date_week_number</th>\n",
              "      <th>arrival_date_day_of_month</th>\n",
              "      <th>stays_in_weekend_nights</th>\n",
              "      <th>stays_in_week_nights</th>\n",
              "      <th>adults</th>\n",
              "      <th>children</th>\n",
              "      <th>babies</th>\n",
              "      <th>meal</th>\n",
              "      <th>country</th>\n",
              "      <th>market_segment</th>\n",
              "      <th>distribution_channel</th>\n",
              "      <th>is_repeated_guest</th>\n",
              "      <th>previous_cancellations</th>\n",
              "      <th>previous_bookings_not_canceled</th>\n",
              "      <th>reserved_room_type</th>\n",
              "      <th>assigned_room_type</th>\n",
              "      <th>booking_changes</th>\n",
              "      <th>deposit_type</th>\n",
              "      <th>agent</th>\n",
              "      <th>company</th>\n",
              "      <th>days_in_waiting_list</th>\n",
              "      <th>customer_type</th>\n",
              "      <th>adr</th>\n",
              "      <th>required_car_parking_spaces</th>\n",
              "      <th>total_of_special_requests</th>\n",
              "      <th>reservation_status</th>\n",
              "      <th>reservation_status_date</th>\n",
              "    </tr>\n",
              "  </thead>\n",
              "  <tbody>\n",
              "    <tr>\n",
              "      <th>53902</th>\n",
              "      <td>City Hotel</td>\n",
              "      <td>1</td>\n",
              "      <td>75</td>\n",
              "      <td>2016</td>\n",
              "      <td>July</td>\n",
              "      <td>27</td>\n",
              "      <td>1</td>\n",
              "      <td>1</td>\n",
              "      <td>2</td>\n",
              "      <td>2</td>\n",
              "      <td>0.0</td>\n",
              "      <td>0</td>\n",
              "      <td>BB</td>\n",
              "      <td>FRA</td>\n",
              "      <td>Online TA</td>\n",
              "      <td>TA/TO</td>\n",
              "      <td>0</td>\n",
              "      <td>0</td>\n",
              "      <td>0</td>\n",
              "      <td>D</td>\n",
              "      <td>D</td>\n",
              "      <td>0</td>\n",
              "      <td>No Deposit</td>\n",
              "      <td>9.0</td>\n",
              "      <td>NaN</td>\n",
              "      <td>0</td>\n",
              "      <td>Transient</td>\n",
              "      <td>131.40</td>\n",
              "      <td>0</td>\n",
              "      <td>0</td>\n",
              "      <td>Canceled</td>\n",
              "      <td>2016-04-27</td>\n",
              "    </tr>\n",
              "    <tr>\n",
              "      <th>53109</th>\n",
              "      <td>City Hotel</td>\n",
              "      <td>1</td>\n",
              "      <td>239</td>\n",
              "      <td>2016</td>\n",
              "      <td>June</td>\n",
              "      <td>25</td>\n",
              "      <td>15</td>\n",
              "      <td>0</td>\n",
              "      <td>2</td>\n",
              "      <td>2</td>\n",
              "      <td>0.0</td>\n",
              "      <td>0</td>\n",
              "      <td>HB</td>\n",
              "      <td>PRT</td>\n",
              "      <td>Offline TA/TO</td>\n",
              "      <td>TA/TO</td>\n",
              "      <td>0</td>\n",
              "      <td>0</td>\n",
              "      <td>0</td>\n",
              "      <td>A</td>\n",
              "      <td>A</td>\n",
              "      <td>0</td>\n",
              "      <td>Non Refund</td>\n",
              "      <td>6.0</td>\n",
              "      <td>NaN</td>\n",
              "      <td>80</td>\n",
              "      <td>Transient</td>\n",
              "      <td>112.20</td>\n",
              "      <td>0</td>\n",
              "      <td>0</td>\n",
              "      <td>Canceled</td>\n",
              "      <td>2016-01-08</td>\n",
              "    </tr>\n",
              "    <tr>\n",
              "      <th>62049</th>\n",
              "      <td>City Hotel</td>\n",
              "      <td>1</td>\n",
              "      <td>204</td>\n",
              "      <td>2016</td>\n",
              "      <td>December</td>\n",
              "      <td>53</td>\n",
              "      <td>31</td>\n",
              "      <td>1</td>\n",
              "      <td>1</td>\n",
              "      <td>3</td>\n",
              "      <td>0.0</td>\n",
              "      <td>0</td>\n",
              "      <td>BB</td>\n",
              "      <td>BRA</td>\n",
              "      <td>Online TA</td>\n",
              "      <td>TA/TO</td>\n",
              "      <td>0</td>\n",
              "      <td>0</td>\n",
              "      <td>0</td>\n",
              "      <td>D</td>\n",
              "      <td>D</td>\n",
              "      <td>0</td>\n",
              "      <td>No Deposit</td>\n",
              "      <td>9.0</td>\n",
              "      <td>NaN</td>\n",
              "      <td>0</td>\n",
              "      <td>Transient</td>\n",
              "      <td>133.20</td>\n",
              "      <td>0</td>\n",
              "      <td>0</td>\n",
              "      <td>Canceled</td>\n",
              "      <td>2016-07-27</td>\n",
              "    </tr>\n",
              "    <tr>\n",
              "      <th>99015</th>\n",
              "      <td>City Hotel</td>\n",
              "      <td>0</td>\n",
              "      <td>17</td>\n",
              "      <td>2016</td>\n",
              "      <td>October</td>\n",
              "      <td>41</td>\n",
              "      <td>7</td>\n",
              "      <td>0</td>\n",
              "      <td>1</td>\n",
              "      <td>2</td>\n",
              "      <td>0.0</td>\n",
              "      <td>0</td>\n",
              "      <td>SC</td>\n",
              "      <td>ESP</td>\n",
              "      <td>Online TA</td>\n",
              "      <td>TA/TO</td>\n",
              "      <td>0</td>\n",
              "      <td>0</td>\n",
              "      <td>0</td>\n",
              "      <td>A</td>\n",
              "      <td>A</td>\n",
              "      <td>0</td>\n",
              "      <td>No Deposit</td>\n",
              "      <td>9.0</td>\n",
              "      <td>NaN</td>\n",
              "      <td>0</td>\n",
              "      <td>Transient</td>\n",
              "      <td>135.00</td>\n",
              "      <td>0</td>\n",
              "      <td>2</td>\n",
              "      <td>Check-Out</td>\n",
              "      <td>2016-10-08</td>\n",
              "    </tr>\n",
              "    <tr>\n",
              "      <th>55732</th>\n",
              "      <td>City Hotel</td>\n",
              "      <td>1</td>\n",
              "      <td>165</td>\n",
              "      <td>2016</td>\n",
              "      <td>August</td>\n",
              "      <td>34</td>\n",
              "      <td>19</td>\n",
              "      <td>2</td>\n",
              "      <td>3</td>\n",
              "      <td>3</td>\n",
              "      <td>0.0</td>\n",
              "      <td>0</td>\n",
              "      <td>HB</td>\n",
              "      <td>POL</td>\n",
              "      <td>Online TA</td>\n",
              "      <td>TA/TO</td>\n",
              "      <td>0</td>\n",
              "      <td>0</td>\n",
              "      <td>0</td>\n",
              "      <td>D</td>\n",
              "      <td>D</td>\n",
              "      <td>1</td>\n",
              "      <td>No Deposit</td>\n",
              "      <td>9.0</td>\n",
              "      <td>NaN</td>\n",
              "      <td>0</td>\n",
              "      <td>Transient</td>\n",
              "      <td>180.20</td>\n",
              "      <td>0</td>\n",
              "      <td>0</td>\n",
              "      <td>Canceled</td>\n",
              "      <td>2016-03-15</td>\n",
              "    </tr>\n",
              "    <tr>\n",
              "      <th>...</th>\n",
              "      <td>...</td>\n",
              "      <td>...</td>\n",
              "      <td>...</td>\n",
              "      <td>...</td>\n",
              "      <td>...</td>\n",
              "      <td>...</td>\n",
              "      <td>...</td>\n",
              "      <td>...</td>\n",
              "      <td>...</td>\n",
              "      <td>...</td>\n",
              "      <td>...</td>\n",
              "      <td>...</td>\n",
              "      <td>...</td>\n",
              "      <td>...</td>\n",
              "      <td>...</td>\n",
              "      <td>...</td>\n",
              "      <td>...</td>\n",
              "      <td>...</td>\n",
              "      <td>...</td>\n",
              "      <td>...</td>\n",
              "      <td>...</td>\n",
              "      <td>...</td>\n",
              "      <td>...</td>\n",
              "      <td>...</td>\n",
              "      <td>...</td>\n",
              "      <td>...</td>\n",
              "      <td>...</td>\n",
              "      <td>...</td>\n",
              "      <td>...</td>\n",
              "      <td>...</td>\n",
              "      <td>...</td>\n",
              "      <td>...</td>\n",
              "    </tr>\n",
              "    <tr>\n",
              "      <th>28075</th>\n",
              "      <td>Resort Hotel</td>\n",
              "      <td>0</td>\n",
              "      <td>336</td>\n",
              "      <td>2016</td>\n",
              "      <td>September</td>\n",
              "      <td>38</td>\n",
              "      <td>15</td>\n",
              "      <td>1</td>\n",
              "      <td>3</td>\n",
              "      <td>1</td>\n",
              "      <td>0.0</td>\n",
              "      <td>0</td>\n",
              "      <td>BB</td>\n",
              "      <td>ESP</td>\n",
              "      <td>Groups</td>\n",
              "      <td>Direct</td>\n",
              "      <td>0</td>\n",
              "      <td>0</td>\n",
              "      <td>0</td>\n",
              "      <td>A</td>\n",
              "      <td>A</td>\n",
              "      <td>2</td>\n",
              "      <td>No Deposit</td>\n",
              "      <td>NaN</td>\n",
              "      <td>223.0</td>\n",
              "      <td>0</td>\n",
              "      <td>Transient-Party</td>\n",
              "      <td>67.50</td>\n",
              "      <td>0</td>\n",
              "      <td>0</td>\n",
              "      <td>Check-Out</td>\n",
              "      <td>2016-09-19</td>\n",
              "    </tr>\n",
              "    <tr>\n",
              "      <th>107555</th>\n",
              "      <td>City Hotel</td>\n",
              "      <td>0</td>\n",
              "      <td>20</td>\n",
              "      <td>2017</td>\n",
              "      <td>March</td>\n",
              "      <td>11</td>\n",
              "      <td>13</td>\n",
              "      <td>1</td>\n",
              "      <td>1</td>\n",
              "      <td>1</td>\n",
              "      <td>0.0</td>\n",
              "      <td>0</td>\n",
              "      <td>BB</td>\n",
              "      <td>FRA</td>\n",
              "      <td>Groups</td>\n",
              "      <td>TA/TO</td>\n",
              "      <td>0</td>\n",
              "      <td>0</td>\n",
              "      <td>0</td>\n",
              "      <td>A</td>\n",
              "      <td>A</td>\n",
              "      <td>0</td>\n",
              "      <td>No Deposit</td>\n",
              "      <td>254.0</td>\n",
              "      <td>NaN</td>\n",
              "      <td>0</td>\n",
              "      <td>Transient-Party</td>\n",
              "      <td>178.00</td>\n",
              "      <td>0</td>\n",
              "      <td>0</td>\n",
              "      <td>Check-Out</td>\n",
              "      <td>2017-03-15</td>\n",
              "    </tr>\n",
              "    <tr>\n",
              "      <th>40426</th>\n",
              "      <td>City Hotel</td>\n",
              "      <td>0</td>\n",
              "      <td>110</td>\n",
              "      <td>2015</td>\n",
              "      <td>July</td>\n",
              "      <td>30</td>\n",
              "      <td>25</td>\n",
              "      <td>2</td>\n",
              "      <td>1</td>\n",
              "      <td>1</td>\n",
              "      <td>0.0</td>\n",
              "      <td>0</td>\n",
              "      <td>HB</td>\n",
              "      <td>ITA</td>\n",
              "      <td>Offline TA/TO</td>\n",
              "      <td>TA/TO</td>\n",
              "      <td>0</td>\n",
              "      <td>0</td>\n",
              "      <td>0</td>\n",
              "      <td>A</td>\n",
              "      <td>A</td>\n",
              "      <td>1</td>\n",
              "      <td>No Deposit</td>\n",
              "      <td>17.0</td>\n",
              "      <td>NaN</td>\n",
              "      <td>0</td>\n",
              "      <td>Transient-Party</td>\n",
              "      <td>36.25</td>\n",
              "      <td>0</td>\n",
              "      <td>0</td>\n",
              "      <td>Check-Out</td>\n",
              "      <td>2015-07-28</td>\n",
              "    </tr>\n",
              "    <tr>\n",
              "      <th>108681</th>\n",
              "      <td>City Hotel</td>\n",
              "      <td>0</td>\n",
              "      <td>186</td>\n",
              "      <td>2017</td>\n",
              "      <td>March</td>\n",
              "      <td>13</td>\n",
              "      <td>27</td>\n",
              "      <td>1</td>\n",
              "      <td>3</td>\n",
              "      <td>3</td>\n",
              "      <td>0.0</td>\n",
              "      <td>0</td>\n",
              "      <td>BB</td>\n",
              "      <td>IRL</td>\n",
              "      <td>Online TA</td>\n",
              "      <td>TA/TO</td>\n",
              "      <td>0</td>\n",
              "      <td>0</td>\n",
              "      <td>0</td>\n",
              "      <td>D</td>\n",
              "      <td>D</td>\n",
              "      <td>0</td>\n",
              "      <td>No Deposit</td>\n",
              "      <td>9.0</td>\n",
              "      <td>NaN</td>\n",
              "      <td>0</td>\n",
              "      <td>Transient</td>\n",
              "      <td>119.00</td>\n",
              "      <td>0</td>\n",
              "      <td>3</td>\n",
              "      <td>Check-Out</td>\n",
              "      <td>2017-03-31</td>\n",
              "    </tr>\n",
              "    <tr>\n",
              "      <th>24457</th>\n",
              "      <td>Resort Hotel</td>\n",
              "      <td>0</td>\n",
              "      <td>117</td>\n",
              "      <td>2016</td>\n",
              "      <td>May</td>\n",
              "      <td>21</td>\n",
              "      <td>15</td>\n",
              "      <td>2</td>\n",
              "      <td>5</td>\n",
              "      <td>2</td>\n",
              "      <td>0.0</td>\n",
              "      <td>0</td>\n",
              "      <td>BB</td>\n",
              "      <td>GBR</td>\n",
              "      <td>Offline TA/TO</td>\n",
              "      <td>TA/TO</td>\n",
              "      <td>0</td>\n",
              "      <td>0</td>\n",
              "      <td>0</td>\n",
              "      <td>A</td>\n",
              "      <td>A</td>\n",
              "      <td>0</td>\n",
              "      <td>No Deposit</td>\n",
              "      <td>243.0</td>\n",
              "      <td>NaN</td>\n",
              "      <td>0</td>\n",
              "      <td>Contract</td>\n",
              "      <td>37.40</td>\n",
              "      <td>0</td>\n",
              "      <td>0</td>\n",
              "      <td>Check-Out</td>\n",
              "      <td>2016-05-22</td>\n",
              "    </tr>\n",
              "  </tbody>\n",
              "</table>\n",
              "<p>100 rows × 32 columns</p>\n",
              "</div>"
            ],
            "text/plain": [
              "               hotel  is_canceled  ...  reservation_status  reservation_status_date\n",
              "53902     City Hotel            1  ...            Canceled               2016-04-27\n",
              "53109     City Hotel            1  ...            Canceled               2016-01-08\n",
              "62049     City Hotel            1  ...            Canceled               2016-07-27\n",
              "99015     City Hotel            0  ...           Check-Out               2016-10-08\n",
              "55732     City Hotel            1  ...            Canceled               2016-03-15\n",
              "...              ...          ...  ...                 ...                      ...\n",
              "28075   Resort Hotel            0  ...           Check-Out               2016-09-19\n",
              "107555    City Hotel            0  ...           Check-Out               2017-03-15\n",
              "40426     City Hotel            0  ...           Check-Out               2015-07-28\n",
              "108681    City Hotel            0  ...           Check-Out               2017-03-31\n",
              "24457   Resort Hotel            0  ...           Check-Out               2016-05-22\n",
              "\n",
              "[100 rows x 32 columns]"
            ]
          },
          "metadata": {
            "tags": []
          },
          "execution_count": 13
        }
      ]
    },
    {
      "cell_type": "markdown",
      "metadata": {
        "id": "E1pGyZZyC4L7",
        "colab_type": "text"
      },
      "source": [
        "## 2. Systematic Sampling"
      ]
    },
    {
      "cell_type": "markdown",
      "metadata": {
        "colab_type": "text",
        "id": "LtyPNQJrD21j"
      },
      "source": [
        "### Examples "
      ]
    },
    {
      "cell_type": "code",
      "metadata": {
        "colab_type": "code",
        "id": "7kUY73YXD21n",
        "outputId": "db72758e-b183-4a26-c29a-1a87f78ef70f",
        "colab": {
          "base_uri": "https://localhost:8080/",
          "height": 69
        }
      },
      "source": [
        "# Example 1\n",
        "# ---\n",
        "# We will use this example to demonstrate how we can perform systematic sampling.\n",
        "# This systematic sampling example in this notebook has been borrowed from \n",
        "# https://bit.ly/SamplingSourceLink with some modifications.\n",
        "# ---\n",
        "# Let's first recall abit of some theory. The idea of systematic sampling is that, \n",
        "# given the population units numbered from 1 to N, we compute for the sampling interval, \n",
        "# given by  k = N / n, where  n  is the number of units needed for the sample. \n",
        "# After that, we choose for the random start, number between  1  and  k. \n",
        "# This random start becomes the first sample, and then the second unit in the sample \n",
        "# is obtained by adding the sampling interval to the random start, and so on. \n",
        "# ---\n",
        "# There are two types of systematic sampling namely, linear and circular systematic sampling. \n",
        "# Circular systematic sampling treats the population units numbered from 1 to N in circular form,\n",
        "# such that if the increment step is more than the number of N units, say N + 2, \n",
        "# the sample unit is the 2nd element in the population, and so on. \n",
        "# The following code that we will use can be used both for linear and circular. \n",
        "# ---\n",
        "# Question: Perform systematic sampling given the following list.\n",
        "# ---\n",
        "#\n",
        " \n",
        "# The dataset that we will use a numpy array which means\n",
        "# we create our list then convert it to a numpy array as shown\n",
        "# ---\n",
        "# \n",
        "salary_data = [2500, 1500, 2000, 2500, 1800, 1200, 2400, 3000, 1500, 2000, 1000, 1000, 1100]\n",
        "salary_data = np.array(salary_data) \n",
        "\n",
        "# The function to used for systematic sampling\n",
        "# ---\n",
        "# \n",
        "def sys_sample(df, r, n):\n",
        "    k = df.shape[0] // n\n",
        "\n",
        "    b = [None] * n; a = r\n",
        "    b[0] = a\n",
        "\n",
        "    for i in np.arange(1, n):\n",
        "        a = a + k\n",
        "\n",
        "        if a > df.shape[0]:\n",
        "            a = a - df.shape[0]\n",
        "\n",
        "        b[i] = a\n",
        "\n",
        "    return {\"Sample data\" : df[b], \"Index/Position\" : b, \"K\" : k}\n",
        "\n",
        "\n",
        "# We then call our sampling function with the appropriate parameters\n",
        "# for random start, r = 2, and defining the number of samples, n = 4.\n",
        "# ---\n",
        "#  \n",
        "sys_sample(salary_data, r = 1, n = 4)"
      ],
      "execution_count": 0,
      "outputs": [
        {
          "output_type": "execute_result",
          "data": {
            "text/plain": [
              "{'Index/Position': [1, 4, 7, 10],\n",
              " 'K': 3,\n",
              " 'Sample data': array([1500, 1800, 3000, 1000])}"
            ]
          },
          "metadata": {
            "tags": []
          },
          "execution_count": 19
        }
      ]
    },
    {
      "cell_type": "code",
      "metadata": {
        "id": "INKZfpBblUZU",
        "colab_type": "code",
        "outputId": "212c429f-c268-438e-c23d-8df4a3b104d1",
        "colab": {
          "base_uri": "https://localhost:8080/",
          "height": 175
        }
      },
      "source": [
        "# Example 2\n",
        "# ---\n",
        "# Let's now work with a dataset by using the customer dataset we imported earlier.\n",
        "# ---\n",
        "\n",
        "# Then let's recreate the above function for systematic sampling\n",
        "# then tweak it abit by returning our sampled values\n",
        "\n",
        "def sys_sample(df, r, n):\n",
        "    k = df.shape[0] // n\n",
        "\n",
        "    b = [None] * n; a = r\n",
        "    b[0] = a\n",
        "\n",
        "    for i in np.arange(1, n):\n",
        "        a = a + k\n",
        "\n",
        "        if a > df.shape[0]:\n",
        "            a = a - df.shape[0]\n",
        "\n",
        "        b[i] = a\n",
        "\n",
        "    return spending_df[spending_df.index.isin(b)]  \n",
        "\n",
        "# Performing sampling for random start, r = 2, \n",
        "# and defining the number of samples, n = 4\n",
        "# ---\n",
        "# \n",
        "sys_sample(spending_df, r = 2, n = 4)"
      ],
      "execution_count": 0,
      "outputs": [
        {
          "output_type": "execute_result",
          "data": {
            "text/html": [
              "<div>\n",
              "<style scoped>\n",
              "    .dataframe tbody tr th:only-of-type {\n",
              "        vertical-align: middle;\n",
              "    }\n",
              "\n",
              "    .dataframe tbody tr th {\n",
              "        vertical-align: top;\n",
              "    }\n",
              "\n",
              "    .dataframe thead th {\n",
              "        text-align: right;\n",
              "    }\n",
              "</style>\n",
              "<table border=\"1\" class=\"dataframe\">\n",
              "  <thead>\n",
              "    <tr style=\"text-align: right;\">\n",
              "      <th></th>\n",
              "      <th>CustomerID</th>\n",
              "      <th>Gender</th>\n",
              "      <th>Age</th>\n",
              "      <th>Annual Income (k$)</th>\n",
              "      <th>Spending Score (1-100)</th>\n",
              "    </tr>\n",
              "  </thead>\n",
              "  <tbody>\n",
              "    <tr>\n",
              "      <th>2</th>\n",
              "      <td>3</td>\n",
              "      <td>Female</td>\n",
              "      <td>20</td>\n",
              "      <td>16</td>\n",
              "      <td>6</td>\n",
              "    </tr>\n",
              "    <tr>\n",
              "      <th>52</th>\n",
              "      <td>53</td>\n",
              "      <td>Female</td>\n",
              "      <td>31</td>\n",
              "      <td>43</td>\n",
              "      <td>54</td>\n",
              "    </tr>\n",
              "    <tr>\n",
              "      <th>102</th>\n",
              "      <td>103</td>\n",
              "      <td>Male</td>\n",
              "      <td>67</td>\n",
              "      <td>62</td>\n",
              "      <td>59</td>\n",
              "    </tr>\n",
              "    <tr>\n",
              "      <th>152</th>\n",
              "      <td>153</td>\n",
              "      <td>Female</td>\n",
              "      <td>44</td>\n",
              "      <td>78</td>\n",
              "      <td>20</td>\n",
              "    </tr>\n",
              "  </tbody>\n",
              "</table>\n",
              "</div>"
            ],
            "text/plain": [
              "     CustomerID  Gender  Age  Annual Income (k$)  Spending Score (1-100)\n",
              "2             3  Female   20                  16                       6\n",
              "52           53  Female   31                  43                      54\n",
              "102         103    Male   67                  62                      59\n",
              "152         153  Female   44                  78                      20"
            ]
          },
          "metadata": {
            "tags": []
          },
          "execution_count": 20
        }
      ]
    },
    {
      "cell_type": "markdown",
      "metadata": {
        "colab_type": "text",
        "id": "J3wZkkhfD64z"
      },
      "source": [
        "### <font color=\"green\">Challenges</font> "
      ]
    },
    {
      "cell_type": "code",
      "metadata": {
        "colab_type": "code",
        "id": "7oL3QZoCD640",
        "outputId": "03d5008d-e4f4-48b3-efb0-4b3e6eebc620",
        "colab": {
          "base_uri": "https://localhost:8080/",
          "height": 69
        }
      },
      "source": [
        "# Challenge 1\n",
        "# ---\n",
        "# Create a systematic sample from the following cities list. \n",
        "# ---\n",
        "# cities = ['Nairobi', 'Amsterdam', 'Johannesburg', 'Port Louis', 'St. Petersburg', 'Warsaw', 'Cairo', 'Lyon']\n",
        "# ---\n",
        "# OUR CODE GOES BELOW\n",
        "# \n",
        "def sys_sample(df, r, n):\n",
        "    k = df.shape[0] // n\n",
        "\n",
        "    b = [None] * n; a = r\n",
        "    b[0] = a\n",
        "\n",
        "    for i in np.arange(1, n):\n",
        "        a = a + k\n",
        "\n",
        "        if a > df.shape[0]:\n",
        "            a = a - df.shape[0]\n",
        "\n",
        "        b[i] = a\n",
        "\n",
        "    return {\"Sample data\" : df[b], \"Index/Position\" : b, \"K\" : k}\n",
        "    \n",
        "cities = ['Nairobi', 'Amsterdam', 'Johannesburg', 'Port Louis', 'St. Petersburg', 'Warsaw', 'Cairo', 'Lyon']\n",
        "cities = np.array(cities)\n",
        "sys_sample(cities, r = 1, n = 4)"
      ],
      "execution_count": 0,
      "outputs": [
        {
          "output_type": "execute_result",
          "data": {
            "text/plain": [
              "{'Index/Position': [1, 3, 5, 7],\n",
              " 'K': 2,\n",
              " 'Sample data': array(['Amsterdam', 'Port Louis', 'Warsaw', 'Lyon'], dtype='<U14')}"
            ]
          },
          "metadata": {
            "tags": []
          },
          "execution_count": 23
        }
      ]
    },
    {
      "cell_type": "code",
      "metadata": {
        "id": "pL-bYo2jo0wr",
        "colab_type": "code",
        "colab": {
          "base_uri": "https://localhost:8080/",
          "height": 175
        },
        "outputId": "db32b293-9b22-47e8-9447-0fa7e5e8075e"
      },
      "source": [
        "# Challenge 2\n",
        "# ---\n",
        "# Perfom systematic sampling on the following Rio City temperature.\n",
        "# ---\n",
        "# Dataset url = https://bit.ly/RioTemperature\n",
        "# ---\n",
        "# OUR CODE GOES BELOW\n",
        "# \n",
        "def sys_sample(df, r, n):\n",
        "    k = df.shape[0] // n\n",
        "\n",
        "    b = [None] * n; a = r\n",
        "    b[0] = a\n",
        "\n",
        "    for i in np.arange(1, n):\n",
        "        a = a + k\n",
        "\n",
        "        if a > df.shape[0]:\n",
        "            a = a - df.shape[0]\n",
        "\n",
        "        b[i] = a\n",
        "\n",
        "    return df[df.index.isin(b)]\n",
        "\n",
        "rio_temperature = pd.read_csv(\"https://bit.ly/RioTemperature\")\n",
        "sys_sample(rio_temperature, r = 2, n = 4)"
      ],
      "execution_count": 4,
      "outputs": [
        {
          "output_type": "execute_result",
          "data": {
            "text/html": [
              "<div>\n",
              "<style scoped>\n",
              "    .dataframe tbody tr th:only-of-type {\n",
              "        vertical-align: middle;\n",
              "    }\n",
              "\n",
              "    .dataframe tbody tr th {\n",
              "        vertical-align: top;\n",
              "    }\n",
              "\n",
              "    .dataframe thead th {\n",
              "        text-align: right;\n",
              "    }\n",
              "</style>\n",
              "<table border=\"1\" class=\"dataframe\">\n",
              "  <thead>\n",
              "    <tr style=\"text-align: right;\">\n",
              "      <th></th>\n",
              "      <th>YEAR</th>\n",
              "      <th>JAN</th>\n",
              "      <th>FEB</th>\n",
              "      <th>MAR</th>\n",
              "      <th>APR</th>\n",
              "      <th>MAY</th>\n",
              "      <th>JUN</th>\n",
              "      <th>JUL</th>\n",
              "      <th>AUG</th>\n",
              "      <th>SEP</th>\n",
              "      <th>OCT</th>\n",
              "      <th>NOV</th>\n",
              "      <th>DEC</th>\n",
              "      <th>D-J-F</th>\n",
              "      <th>M-A-M</th>\n",
              "      <th>J-J-A</th>\n",
              "      <th>S-O-N</th>\n",
              "      <th>metANN</th>\n",
              "    </tr>\n",
              "  </thead>\n",
              "  <tbody>\n",
              "    <tr>\n",
              "      <th>2</th>\n",
              "      <td>1975</td>\n",
              "      <td>25.27</td>\n",
              "      <td>26.92</td>\n",
              "      <td>26.43</td>\n",
              "      <td>22.82</td>\n",
              "      <td>21.37</td>\n",
              "      <td>20.50</td>\n",
              "      <td>19.68</td>\n",
              "      <td>22.98</td>\n",
              "      <td>22.40</td>\n",
              "      <td>22.65</td>\n",
              "      <td>24.11</td>\n",
              "      <td>26.53</td>\n",
              "      <td>25.58</td>\n",
              "      <td>23.54</td>\n",
              "      <td>21.05</td>\n",
              "      <td>23.05</td>\n",
              "      <td>23.31</td>\n",
              "    </tr>\n",
              "    <tr>\n",
              "      <th>13</th>\n",
              "      <td>1986</td>\n",
              "      <td>999.90</td>\n",
              "      <td>27.93</td>\n",
              "      <td>26.95</td>\n",
              "      <td>25.97</td>\n",
              "      <td>999.90</td>\n",
              "      <td>22.70</td>\n",
              "      <td>21.09</td>\n",
              "      <td>22.66</td>\n",
              "      <td>21.46</td>\n",
              "      <td>23.04</td>\n",
              "      <td>25.76</td>\n",
              "      <td>26.17</td>\n",
              "      <td>999.90</td>\n",
              "      <td>25.45</td>\n",
              "      <td>22.15</td>\n",
              "      <td>23.42</td>\n",
              "      <td>24.60</td>\n",
              "    </tr>\n",
              "    <tr>\n",
              "      <th>24</th>\n",
              "      <td>1997</td>\n",
              "      <td>26.52</td>\n",
              "      <td>28.03</td>\n",
              "      <td>25.35</td>\n",
              "      <td>24.57</td>\n",
              "      <td>22.43</td>\n",
              "      <td>21.53</td>\n",
              "      <td>22.00</td>\n",
              "      <td>21.76</td>\n",
              "      <td>23.28</td>\n",
              "      <td>24.25</td>\n",
              "      <td>26.27</td>\n",
              "      <td>27.77</td>\n",
              "      <td>27.02</td>\n",
              "      <td>24.12</td>\n",
              "      <td>21.76</td>\n",
              "      <td>24.60</td>\n",
              "      <td>24.38</td>\n",
              "    </tr>\n",
              "    <tr>\n",
              "      <th>35</th>\n",
              "      <td>2008</td>\n",
              "      <td>26.25</td>\n",
              "      <td>26.54</td>\n",
              "      <td>26.37</td>\n",
              "      <td>25.28</td>\n",
              "      <td>22.69</td>\n",
              "      <td>21.59</td>\n",
              "      <td>21.08</td>\n",
              "      <td>22.66</td>\n",
              "      <td>21.88</td>\n",
              "      <td>24.37</td>\n",
              "      <td>24.27</td>\n",
              "      <td>25.39</td>\n",
              "      <td>26.59</td>\n",
              "      <td>24.78</td>\n",
              "      <td>21.78</td>\n",
              "      <td>23.51</td>\n",
              "      <td>24.16</td>\n",
              "    </tr>\n",
              "  </tbody>\n",
              "</table>\n",
              "</div>"
            ],
            "text/plain": [
              "    YEAR     JAN    FEB    MAR    APR  ...   D-J-F  M-A-M  J-J-A  S-O-N  metANN\n",
              "2   1975   25.27  26.92  26.43  22.82  ...   25.58  23.54  21.05  23.05   23.31\n",
              "13  1986  999.90  27.93  26.95  25.97  ...  999.90  25.45  22.15  23.42   24.60\n",
              "24  1997   26.52  28.03  25.35  24.57  ...   27.02  24.12  21.76  24.60   24.38\n",
              "35  2008   26.25  26.54  26.37  25.28  ...   26.59  24.78  21.78  23.51   24.16\n",
              "\n",
              "[4 rows x 18 columns]"
            ]
          },
          "metadata": {
            "tags": []
          },
          "execution_count": 4
        }
      ]
    },
    {
      "cell_type": "markdown",
      "metadata": {
        "id": "9z813vHmDZ6W",
        "colab_type": "text"
      },
      "source": [
        "## 3. Stratified Sampling"
      ]
    },
    {
      "cell_type": "markdown",
      "metadata": {
        "colab_type": "text",
        "id": "CzbgkvsuECnI"
      },
      "source": [
        "### Examples "
      ]
    },
    {
      "cell_type": "code",
      "metadata": {
        "colab_type": "code",
        "id": "MrDx5R9LECnJ",
        "colab": {}
      },
      "source": [
        "# Example 1\n",
        "# ---\n",
        "# While performing stratified sampling, we can perform a sample a fraction \n",
        "# of each group as shown in this example:\n",
        "# ----\n",
        "# Dataset url = https://bit.ly/2WtrItx\n",
        "\n",
        "# Lets first import and preview our dataset\n",
        "# ---\n",
        "#\n",
        "df_customers = pd.read_csv('https://bit.ly/2y5CRYc')\n",
        "df_customers.head()"
      ],
      "execution_count": 0,
      "outputs": []
    },
    {
      "cell_type": "code",
      "metadata": {
        "id": "RUPKpQFiSRZQ",
        "colab_type": "code",
        "colab": {}
      },
      "source": [
        "# We then use groupby.apply() with sample as shown below.\n",
        "# In the process we use frac to define the fraction of our group we would like to get.\n",
        "# ---\n",
        "# \n",
        "df_customers.groupby('sex').apply(pd.DataFrame.sample, frac=.005)\n",
        "\n",
        "\n",
        "# Method 2\n",
        "# ---\n",
        "# Alternatively, if MultiIndex is not required, we may specify group_keys = False \n",
        "# to groupby and get our stratified sampling:\n",
        "# ---\n",
        "# df_customers.groupby('sex', group_keys = False).apply(pd.DataFrame.sample, frac=.005)"
      ],
      "execution_count": 0,
      "outputs": []
    },
    {
      "cell_type": "code",
      "metadata": {
        "id": "-bNTllXpP17w",
        "colab_type": "code",
        "colab": {}
      },
      "source": [
        "# Example 2\n",
        "# ---\n",
        "# If we would like to sample a fixed number of rows, \n",
        "# we can shuffle the DataFrame beforehand, then use the groupby().head()\n",
        "# ----\n",
        "# \n",
        "df_customers.sample(frac=1).groupby('sex').head(2)\n",
        "\n",
        "\n",
        "# Method 2\n",
        "# ---\n",
        "# df_customers.groupby('sex', group_keys=False).apply(pd.DataFrame.sample, n=2)"
      ],
      "execution_count": 0,
      "outputs": []
    },
    {
      "cell_type": "markdown",
      "metadata": {
        "colab_type": "text",
        "id": "caeBSG23D9qn"
      },
      "source": [
        "### <font color=\"green\">Challenges</font> "
      ]
    },
    {
      "cell_type": "code",
      "metadata": {
        "id": "vo5Cd9AOXH4I",
        "colab_type": "code",
        "colab": {}
      },
      "source": [
        "# Challenge\n",
        "# ---\n",
        "# Question: Going through a Airbus' restaurants sales datset, you would like to perform \n",
        "# data analysis to understand the customers better. Select stratified samples of \n",
        "# a fraction of records and of a fixed number of records using the following \n",
        "# dataset based on day.\n",
        "# ---\n",
        "# Dataset url = https://bit.ly/AirlinePassDataset\n",
        "# ---\n",
        "# OUR CODE GOES BELOW\n",
        "# "
      ],
      "execution_count": 0,
      "outputs": []
    },
    {
      "cell_type": "markdown",
      "metadata": {
        "id": "bui-wArzDV7y",
        "colab_type": "text"
      },
      "source": [
        "## 4. Cluster Sampling"
      ]
    },
    {
      "cell_type": "markdown",
      "metadata": {
        "colab_type": "text",
        "id": "UcmvzSgNEB_h"
      },
      "source": [
        "### Examples "
      ]
    },
    {
      "cell_type": "code",
      "metadata": {
        "id": "J3ZOzrx7wcPq",
        "colab_type": "code",
        "colab": {}
      },
      "source": [
        "# Example 1\n",
        "# ---\n",
        "# There are many solutions ways to performing cluster sampling.\n",
        "# In this example, we will be using one of the most popular methods \n",
        "# of performing cluster sampling which is the use of the K-Means Algorithm \n",
        "# ---\n",
        "# This algorithm will partion our data into k clusters such that data points \n",
        "# in the same cluster are similar, and data points in the different \n",
        "# clusters are away from each other. The value of k would be the \n",
        "# no. of clusters/samples we intend to have. \n",
        "# ---\n",
        "#\n",
        "\n",
        "# Let's first import our algorithm \n",
        "# ---\n",
        "# \n",
        "from sklearn.cluster import KMeans "
      ],
      "execution_count": 0,
      "outputs": []
    },
    {
      "cell_type": "code",
      "metadata": {
        "id": "JzZCuFyYwijA",
        "colab_type": "code",
        "colab": {}
      },
      "source": [
        "# Then import the dataset that we would like to create a cluster sample from.\n",
        "# ---\n",
        "# Dataset url = https://bit.ly/RioTemperature\n",
        "\n",
        "# This dataset contains telecom subscribers data.\n",
        "# ---\n",
        "# \n",
        "rio_temp_df = pd.read_csv('https://bit.ly/RioTemperature')\n",
        "rio_temp_df.head()"
      ],
      "execution_count": 0,
      "outputs": []
    },
    {
      "cell_type": "code",
      "metadata": {
        "id": "XnzyNrsz4_oF",
        "colab_type": "code",
        "colab": {}
      },
      "source": [
        "# We then select the data that we would like to work with.\n",
        "# The following code will select all the values and store them in\n",
        "# an array containing a feature matrix that we will pass it \n",
        "# to our Kmeans algorithm for clustering.\n",
        "# ---\n",
        "# This is the format that our algorithm will accept.\n",
        "# ---\n",
        "# \n",
        "X = rio_temp_df.iloc[:,].values\n",
        "\n",
        "# Let's preview our resulting data. \n",
        "# We can make comparisons with the previewed data in the previous cell.\n",
        "# ---\n",
        "# \n",
        "X"
      ],
      "execution_count": 0,
      "outputs": []
    },
    {
      "cell_type": "code",
      "metadata": {
        "id": "n1Zb0--Pwp7M",
        "colab_type": "code",
        "colab": {}
      },
      "source": [
        "# Lets now create the K-means clusterer that we will use to perform cluster sampling. \n",
        "# Because we want two clusters, we pass 2 to the clusterer. \n",
        "# In addition we set random_state = 1, if we would like to reproduce results \n",
        "# at some later point in time. For further info about K-means, we can refer its documentation\n",
        "# by following this link: https://bit.ly/2To6GKN. This will be useful \n",
        "# to explore other model parameters that you'll get to see as an output of this cell.\n",
        "# ---\n",
        "# \n",
        "clusterer = KMeans(3, random_state=1)\n",
        "\n",
        "# Then passing our data the clusterer\n",
        "# ---\n",
        "# \n",
        "clusterer.fit(X)"
      ],
      "execution_count": 0,
      "outputs": []
    },
    {
      "cell_type": "code",
      "metadata": {
        "id": "ydrzqmF4wwSr",
        "colab_type": "code",
        "colab": {}
      },
      "source": [
        "# We then use the predict method to return the cluster that each data point \n",
        "# belongs to and then store this in a new column of our dataframe.\n",
        "# ---\n",
        "# \n",
        "rio_temp_df['cluster_group'] = clusterer.predict(X)"
      ],
      "execution_count": 0,
      "outputs": []
    },
    {
      "cell_type": "code",
      "metadata": {
        "id": "iPOsMlKTXcvc",
        "colab_type": "code",
        "colab": {}
      },
      "source": [
        "# We then sample our dataset to check for the assigned clustering groups 0, 1 and 2\n",
        "# If we don't get to see these clusters, we can run the code again to get another set of records.\n",
        "# ---\n",
        "#\n",
        "rio_temp_df.sample(10)"
      ],
      "execution_count": 0,
      "outputs": []
    },
    {
      "cell_type": "code",
      "metadata": {
        "colab_type": "code",
        "id": "-kNRyxltEB_i",
        "colab": {}
      },
      "source": [
        "# To preview the records in our first cluster which is cluster 0 we can do the following:\n",
        "# ---\n",
        "# \n",
        "first_cluster = rio_temp_df[rio_temp_df.cluster_group.isin([0])]\n",
        "first_cluster.head()"
      ],
      "execution_count": 0,
      "outputs": []
    },
    {
      "cell_type": "code",
      "metadata": {
        "id": "ZjlFEQ-FS6db",
        "colab_type": "code",
        "colab": {}
      },
      "source": [
        "# To preview the records in our second cluster which is cluster 1, we can do the following;\n",
        "# ---\n",
        "#\n",
        "second_cluster = rio_temp_df[rio_temp_df.cluster_group.isin([1])]\n",
        "second_cluster.head()"
      ],
      "execution_count": 0,
      "outputs": []
    },
    {
      "cell_type": "code",
      "metadata": {
        "id": "a7RlLUj2XHiR",
        "colab_type": "code",
        "colab": {}
      },
      "source": [
        "# We can preview the records in our third cluster which is cluster 2 as shown below:\n",
        "# ---\n",
        "# Side note: If you investigate this cluster, and compare it with the other clusters \n",
        "# you might even think this is a cluster of outliers owing to the large values across our features.\n",
        "# ---\n",
        "#\n",
        "third_cluster = rio_temp_df[rio_temp_df.cluster_group.isin([2])]\n",
        "third_cluster.head()"
      ],
      "execution_count": 0,
      "outputs": []
    },
    {
      "cell_type": "markdown",
      "metadata": {
        "colab_type": "text",
        "id": "hqXRbdPPD8lt"
      },
      "source": [
        "### <font color=\"green\">Challenges</font> "
      ]
    },
    {
      "cell_type": "code",
      "metadata": {
        "colab_type": "code",
        "id": "0TM7SJLKD8lu",
        "colab": {}
      },
      "source": [
        "# Challenge 1\n",
        "# ---\n",
        "# Perform cluster sampling on the following sales dataset. \n",
        "# ---\n",
        "# Dataset url = https://bit.ly/2zYvxy0\n",
        "# ---\n",
        "# OUR CODE GOES BELOW\n",
        "#  "
      ],
      "execution_count": 0,
      "outputs": []
    },
    {
      "cell_type": "code",
      "metadata": {
        "id": "6dE3ZRRPfXuu",
        "colab_type": "code",
        "colab": {}
      },
      "source": [
        "# Challenge 2\n",
        "# ---  \n",
        "# Use your knowledge and the above example to perform cluster sampling \n",
        "# on the following python list. Create two clusters.\n",
        "# ---\n",
        "# age_list = [10, 15, 20, 25, 30, 35, 40, 45, 50, 55]\n",
        "# ---\n",
        "# OUR CODE GOES BELOW\n",
        "# "
      ],
      "execution_count": 0,
      "outputs": []
    }
  ]
}